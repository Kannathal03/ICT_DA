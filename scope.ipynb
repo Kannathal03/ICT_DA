{
 "cells": [
  {
   "cell_type": "markdown",
   "metadata": {},
   "source": [
    "\n",
    "local"
   ]
  },
  {
   "cell_type": "code",
   "execution_count": 1,
   "metadata": {},
   "outputs": [
    {
     "name": "stdout",
     "output_type": "stream",
     "text": [
      "The Numver is: 1\n"
     ]
    }
   ],
   "source": [
    "num=()\n",
    "def demo():\n",
    "    #print(num)\n",
    "    num=1\n",
    "    print(\"The Numver is:\",num)\n",
    "demo()"
   ]
  },
  {
   "cell_type": "code",
   "execution_count": 2,
   "metadata": {},
   "outputs": [
    {
     "name": "stdout",
     "output_type": "stream",
     "text": [
      "you are clever\n"
     ]
    }
   ],
   "source": [
    "def demo():\n",
    "     print(str)\n",
    "str=\"you are clever\"\n",
    "demo()"
   ]
  },
  {
   "cell_type": "code",
   "execution_count": 3,
   "metadata": {},
   "outputs": [
    {
     "name": "stdout",
     "output_type": "stream",
     "text": [
      "inner, nonlocal\n",
      "outer, nonlocal\n"
     ]
    }
   ],
   "source": [
    "def func_outer():\n",
    "    x=\"local\"\n",
    "    def func_inner():\n",
    "        nonlocal x\n",
    "        x=\"nonlocal\"\n",
    "        print(\"inner,\",x)\n",
    "    func_inner()\n",
    "    print(\"outer,\",x)\n",
    "func_outer()\n"
   ]
  },
  {
   "cell_type": "code",
   "execution_count": 6,
   "metadata": {},
   "outputs": [
    {
     "name": "stdout",
     "output_type": "stream",
     "text": [
      "Correct student rol_no: 28\n"
     ]
    }
   ],
   "source": [
    "stud = \"Joshua\"\n",
    "rol_no=26\n",
    "def display():\n",
    "    global rol_no\n",
    "    rol_no = rol_no+2\n",
    "    print(\"Correct student rol_no:\",rol_no)\n",
    "display()"
   ]
  },
  {
   "cell_type": "code",
   "execution_count": 11,
   "metadata": {},
   "outputs": [
    {
     "name": "stdout",
     "output_type": "stream",
     "text": [
      "10\n",
      "20\n",
      "30\n"
     ]
    }
   ],
   "source": [
    "global_var = 10\n",
    "def outer_function():\n",
    "    outer_var = 20\n",
    "    def inner_function():\n",
    "      inner_var = 30\n",
    "      print(inner_var)\n",
    "    print(outer_var)\n",
    "    inner_function()\n",
    "print(global_var)\n",
    "outer_function()"
   ]
  },
  {
   "cell_type": "code",
   "execution_count": 18,
   "metadata": {},
   "outputs": [
    {
     "name": "stdout",
     "output_type": "stream",
     "text": [
      "kanna\n"
     ]
    }
   ],
   "source": [
    "def saranathan(c):\n",
    "     print(c)\n",
    "a= \"kanna\"\n",
    "saranathan(a)\n"
   ]
  },
  {
   "cell_type": "code",
   "execution_count": 21,
   "metadata": {},
   "outputs": [
    {
     "name": "stdout",
     "output_type": "stream",
     "text": [
      "welcome to homename\n"
     ]
    },
    {
     "ename": "NameError",
     "evalue": "name 'return0' is not defined",
     "output_type": "error",
     "traceback": [
      "\u001b[1;31m---------------------------------------------------------------------------\u001b[0m",
      "\u001b[1;31mNameError\u001b[0m                                 Traceback (most recent call last)",
      "Cell \u001b[1;32mIn[21], line 7\u001b[0m\n\u001b[0;32m      5\u001b[0m str1\u001b[38;5;241m=\u001b[39m \u001b[38;5;124m\"\u001b[39m\u001b[38;5;124mwelcome to home\u001b[39m\u001b[38;5;124m\"\u001b[39m\n\u001b[0;32m      6\u001b[0m str2\u001b[38;5;241m=\u001b[39m \u001b[38;5;124m\"\u001b[39m\u001b[38;5;124mname\u001b[39m\u001b[38;5;124m\"\u001b[39m\n\u001b[1;32m----> 7\u001b[0m \u001b[38;5;28;43mstr\u001b[39;49m\u001b[43m(\u001b[49m\u001b[43mstr1\u001b[49m\u001b[43m,\u001b[49m\u001b[43mstr2\u001b[49m\u001b[43m)\u001b[49m\n",
      "Cell \u001b[1;32mIn[21], line 3\u001b[0m, in \u001b[0;36mstr\u001b[1;34m(a, b)\u001b[0m\n\u001b[0;32m      1\u001b[0m \u001b[38;5;28;01mdef\u001b[39;00m \u001b[38;5;21mstr\u001b[39m(a,b):\n\u001b[0;32m      2\u001b[0m     \u001b[38;5;28mprint\u001b[39m(a\u001b[38;5;241m+\u001b[39mb)\n\u001b[1;32m----> 3\u001b[0m     \u001b[43mreturn0\u001b[49m\n",
      "\u001b[1;31mNameError\u001b[0m: name 'return0' is not defined"
     ]
    }
   ],
   "source": [
    "def str(a,b):\n",
    "    print(a+b)\n",
    "    return0\n",
    "\n",
    "str1= \"welcome to home\"\n",
    "str2= \"name\"\n",
    "str(str1,str2)"
   ]
  },
  {
   "cell_type": "code",
   "execution_count": 25,
   "metadata": {},
   "outputs": [
    {
     "name": "stdout",
     "output_type": "stream",
     "text": [
      "welcome to my home saranathan ECE\n"
     ]
    }
   ],
   "source": [
    "def fun(name=\"saranathan\",department=\"ECE\"):\n",
    "    print(\"welcome to my home\",name,department)\n",
    "fun()"
   ]
  },
  {
   "cell_type": "code",
   "execution_count": 26,
   "metadata": {},
   "outputs": [
    {
     "name": "stdout",
     "output_type": "stream",
     "text": [
      "hello\n",
      "welcome\n",
      "home\n"
     ]
    }
   ],
   "source": [
    "#variable length arguments\n",
    "def myFun(*argv):\n",
    "    for arg in argv:\n",
    "        print(arg)\n",
    "myFun('hello','welcome','home')"
   ]
  },
  {
   "cell_type": "code",
   "execution_count": null,
   "metadata": {},
   "outputs": [],
   "source": [
    "#variable length keyword arguments\n",
    "defmyFun(**kwargs):\n",
    " for key,value in kwargs"
   ]
  },
  {
   "cell_type": "code",
   "execution_count": null,
   "metadata": {},
   "outputs": [],
   "source": []
  }
 ],
 "metadata": {
  "kernelspec": {
   "display_name": "Python 3",
   "language": "python",
   "name": "python3"
  },
  "language_info": {
   "codemirror_mode": {
    "name": "ipython",
    "version": 3
   },
   "file_extension": ".py",
   "mimetype": "text/x-python",
   "name": "python",
   "nbconvert_exporter": "python",
   "pygments_lexer": "ipython3",
   "version": "3.9.6"
  }
 },
 "nbformat": 4,
 "nbformat_minor": 2
}
